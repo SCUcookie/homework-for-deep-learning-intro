{
 "cells": [
  {
   "cell_type": "code",
   "execution_count": 12,
   "id": "91493c01",
   "metadata": {},
   "outputs": [],
   "source": [
    "import numpy as np\n",
    "\n",
    "def fc(w, a):\n",
    "    # Define the activation function\n",
    "    def f(s):\n",
    "        return 1 / (1 + np.exp(-s))\n",
    "\n",
    "    # Forward computation\n",
    "    z_next = np.dot(w, a)\n",
    "    a_next = f(z_next)\n",
    "\n",
    "    return a_next, z_next\n"
   ]
  },
  {
   "cell_type": "code",
   "execution_count": 13,
   "id": "a6dcb9b9",
   "metadata": {},
   "outputs": [],
   "source": [
    "import numpy as np\n",
    "\n",
    "def bc(w, z, delta_next):\n",
    "    # Define the activation function\n",
    "    def f(s):\n",
    "        return 1 / (1 + np.exp(-s))\n",
    "\n",
    "    # Define the derivative of activation function\n",
    "    def df(s):\n",
    "        return f(s) * (1 - f(s))\n",
    "\n",
    "    # Backward computation\n",
    "    delta = np.dot(w.T, delta_next) * df(z)\n",
    "\n",
    "    return delta\n"
   ]
  },
  {
   "cell_type": "code",
   "execution_count": 26,
   "id": "5fcf1c42",
   "metadata": {},
   "outputs": [
    {
     "name": "stderr",
     "output_type": "stream",
     "text": [
      "C:\\Users\\LDH\\AppData\\Local\\Temp\\ipykernel_4984\\236590484.py:49: DeprecationWarning: Conversion of an array with ndim > 0 to a scalar is deprecated, and will error in future. Ensure you extract a single element from your array before performing this operation. (Deprecated NumPy 1.25.)\n",
      "  J[t] += 0.5 * (a3 - labels[i]) ** 2\n"
     ]
    },
    {
     "name": "stdout",
     "output_type": "stream",
     "text": [
      "Sample [1 0] (1) is classified as 1.\n",
      "Sample [0 1] (1) is classified as 1.\n",
      "Sample [0 0] (0) is classified as 0.\n",
      "Sample [1 1] (0) is classified as 0.\n"
     ]
    },
    {
     "name": "stderr",
     "output_type": "stream",
     "text": [
      "C:\\Users\\LDH\\AppData\\Local\\Temp\\ipykernel_4984\\236590484.py:68: DeprecationWarning: Conversion of an array with ndim > 0 to a scalar is deprecated, and will error in future. Ensure you extract a single element from your array before performing this operation. (Deprecated NumPy 1.25.)\n",
      "  print(f'Sample [{data[0, i]} {data[1, i]}] ({labels[i]}) is classified as {int(a3 > 0.5)}.')\n"
     ]
    }
   ],
   "source": [
    "import numpy as np\n",
    "\n",
    "data = np.array([[1, 0, 0, 1],\n",
    "                 [0, 1, 0, 1]])\n",
    "labels = np.array([1, 1, 0, 0])\n",
    "m = data.shape[1]\n",
    "\n",
    "def fc(w, a):\n",
    "    # Define the activation function\n",
    "    def f(s):\n",
    "        return 1 / (1 + np.exp(-s))\n",
    "\n",
    "    # Forward computation\n",
    "    z_next = np.dot(w, a)\n",
    "    a_next = f(z_next)\n",
    "\n",
    "    return a_next, z_next\n",
    "import numpy as np\n",
    "\n",
    "def bc(w, z, delta_next):\n",
    "    # Define the activation function\n",
    "    def f(s):\n",
    "        return 1 / (1 + np.exp(-s))\n",
    "\n",
    "    # Define the derivative of activation function\n",
    "    def df(s):\n",
    "        return f(s) * (1 - f(s))\n",
    "\n",
    "    # Backward computation\n",
    "    delta = np.dot(w.T, delta_next) * df(z)\n",
    "\n",
    "    return delta\n",
    "alpha = 0.01\n",
    "epochs = 100000\n",
    "w1 = np.random.randn(2, 3).T\n",
    "w2 = np.random.randn(1, 3)\n",
    "J = np.zeros(epochs)\n",
    "\n",
    "for t in range(epochs):\n",
    "    # Initialize gradients\n",
    "    dw1 = np.zeros_like(w1)\n",
    "    dw2 = np.zeros_like(w2)\n",
    "\n",
    "    for i in range(m):\n",
    "        a1 = data[:, i]\n",
    "        a2, z2 = fc(w1, a1)\n",
    "        a3, z3 = fc(w2, a2)\n",
    "\n",
    "        J[t] += 0.5 * (a3 - labels[i]) ** 2\n",
    "\n",
    "        delta3 = (a3 - labels[i]) * df(z3)\n",
    "        delta2 = bc(w2, z2, delta3)\n",
    "\n",
    "        dw2 += np.outer(delta3, a2)\n",
    "        dw1 += np.outer(delta2,a1)\n",
    "\n",
    "    # Update weights\n",
    "    w2 -= alpha * dw2\n",
    "    w1 -= alpha * dw1\n",
    "\n",
    "    #if t % 100 == 0:\n",
    "    #    print(f'{t}/{epochs} epochs J={J[t]:.4f}')\n",
    "\n",
    "for i in range(4):\n",
    "    a1 = data[:, i]\n",
    "    a2, _ = fc(w1, a1)\n",
    "    a3, _ = fc(w2, a2)\n",
    "    print(f'Sample [{data[0, i]} {data[1, i]}] ({labels[i]}) is classified as {int(a3 > 0.5)}.')\n"
   ]
  },
  {
   "cell_type": "code",
   "execution_count": 25,
   "id": "73c791f9",
   "metadata": {},
   "outputs": [
    {
     "name": "stdout",
     "output_type": "stream",
     "text": [
      "Sample [1 0] (1) is classified as 1.\n",
      "Sample [0 1] (1) is classified as 1.\n",
      "Sample [0 0] (0) is classified as 0.\n",
      "Sample [1 1] (0) is classified as 0.\n"
     ]
    },
    {
     "name": "stderr",
     "output_type": "stream",
     "text": [
      "C:\\Users\\LDH\\AppData\\Local\\Temp\\ipykernel_4984\\841560697.py:38: DeprecationWarning: Conversion of an array with ndim > 0 to a scalar is deprecated, and will error in future. Ensure you extract a single element from your array before performing this operation. (Deprecated NumPy 1.25.)\n",
      "  print(f'Sample [{data[0, i]} {data[1, i]}] ({labels[i]}) is classified as {int(a3 > 0.5)}.')\n"
     ]
    }
   ],
   "source": [
    "data = np.array([[1, 0, 0, 1],\n",
    "                 [0, 1, 0, 1]]) \n",
    "labels = np.array([1, 1, 0, 0]) \n",
    "m = data.shape[1]\n",
    "\n",
    "alpha = 0.1\n",
    "epochs = 50000\n",
    "w1 = np.random.randn(2, 3).T\n",
    "w2 = np.random.randn(1, 3)\n",
    "J = np.zeros(epochs)\n",
    "\n",
    "for t in range(epochs):\n",
    "    dw1 = 0\n",
    "    dw2 = 0\n",
    "\n",
    "    a1 = data\n",
    "    a2, z2 = fc(w1, a1)\n",
    "    a3, z3 = fc(w2, a2)\n",
    "\n",
    "    J[t] += np.sum((a3 - labels) ** 2) / (2 * m)\n",
    "\n",
    "    delta3 = (a3 - labels) * df(z3)\n",
    "    delta2 = bc(w2, z2, delta3)\n",
    "\n",
    "    dw2 = np.dot(delta3, a2.T)\n",
    "    dw1 = np.dot(delta2, a1.T)\n",
    "\n",
    "    w2 = w2 - alpha * (1/m) * dw2\n",
    "    w1 = w1 - alpha * (1/m) * dw1\n",
    "\n",
    "    #if t % 100 == 0:\n",
    "    #    print(f'{t}/{epochs} epochs: J={J[t]:.4f}')\n",
    "\n",
    "for i in range(4):\n",
    "    a1 = data[:, i]\n",
    "    a2, _ = fc(w1, a1)\n",
    "    a3, _ = fc(w2, a2)\n",
    "    print(f'Sample [{data[0, i]} {data[1, i]}] ({labels[i]}) is classified as {int(a3 > 0.5)}.')"
   ]
  },
  {
   "cell_type": "code",
   "execution_count": null,
   "id": "32ae297d",
   "metadata": {},
   "outputs": [],
   "source": []
  }
 ],
 "metadata": {
  "kernelspec": {
   "display_name": "Python 3 (ipykernel)",
   "language": "python",
   "name": "python3"
  },
  "language_info": {
   "codemirror_mode": {
    "name": "ipython",
    "version": 3
   },
   "file_extension": ".py",
   "mimetype": "text/x-python",
   "name": "python",
   "nbconvert_exporter": "python",
   "pygments_lexer": "ipython3",
   "version": "3.11.4"
  }
 },
 "nbformat": 4,
 "nbformat_minor": 5
}
