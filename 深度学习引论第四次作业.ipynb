{
 "cells": [
  {
   "cell_type": "markdown",
   "id": "46d0104f",
   "metadata": {},
   "source": [
    "# 使用下载mnist数据集"
   ]
  },
  {
   "cell_type": "code",
   "execution_count": 10,
   "id": "6ae92538",
   "metadata": {},
   "outputs": [],
   "source": [
    "import torch\n",
    "import torchvision\n",
    "import torchvision.transforms as transforms\n",
    "\n",
    "transform = transforms.Compose([transforms.ToTensor()])\n",
    "train_dataset = torchvision.datasets.MNIST(root='./data', train=True, transform=transform, download=True)\n",
    "train_loader = torch.utils.data.DataLoader(train_dataset, batch_size=128, shuffle=True)"
   ]
  },
  {
   "cell_type": "markdown",
   "id": "1dc6b7bc",
   "metadata": {},
   "source": [
    "# 训练VAE"
   ]
  },
  {
   "cell_type": "code",
   "execution_count": 38,
   "id": "b9b0e49f",
   "metadata": {
    "scrolled": true
   },
   "outputs": [
    {
     "name": "stdout",
     "output_type": "stream",
     "text": [
      "Epoch 1, Loss: 170.40202928059895\n",
      "Epoch 2, Loss: 126.36186204427084\n",
      "Epoch 3, Loss: 116.98825387369791\n",
      "Epoch 4, Loss: 112.82676046549479\n",
      "Epoch 5, Loss: 110.54329923502604\n",
      "Epoch 6, Loss: 109.11787864583333\n",
      "Epoch 7, Loss: 108.09626538085938\n",
      "Epoch 8, Loss: 107.40421624348959\n",
      "Epoch 9, Loss: 106.79694244791666\n",
      "Epoch 10, Loss: 106.32226979166667\n",
      "Epoch 11, Loss: 105.93749604492187\n",
      "Epoch 12, Loss: 105.57232581380208\n",
      "Epoch 13, Loss: 105.31778110351563\n",
      "Epoch 14, Loss: 105.00682045898438\n",
      "Epoch 15, Loss: 104.81273924153646\n",
      "Epoch 16, Loss: 104.57988678385416\n",
      "Epoch 17, Loss: 104.41642008463542\n",
      "Epoch 18, Loss: 104.26234448242188\n",
      "Epoch 19, Loss: 104.05334484049479\n",
      "Epoch 20, Loss: 103.93219106445312\n",
      "Epoch 21, Loss: 103.79021123046876\n",
      "Epoch 22, Loss: 103.70045100911459\n",
      "Epoch 23, Loss: 103.56440291341146\n",
      "Epoch 24, Loss: 103.47072228190105\n",
      "Epoch 25, Loss: 103.38835537109375\n",
      "Epoch 26, Loss: 103.30299506835938\n",
      "Epoch 27, Loss: 103.17373815104166\n",
      "Epoch 28, Loss: 103.11361027018229\n",
      "Epoch 29, Loss: 103.02751468098958\n",
      "Epoch 30, Loss: 102.94863704427084\n",
      "Epoch 31, Loss: 102.86491435546876\n",
      "Epoch 32, Loss: 102.84323413085937\n",
      "Epoch 33, Loss: 102.75022680664063\n",
      "Epoch 34, Loss: 102.68287945963542\n",
      "Epoch 35, Loss: 102.58283540039062\n",
      "Epoch 36, Loss: 102.56186207682292\n",
      "Epoch 37, Loss: 102.49625309244792\n",
      "Epoch 38, Loss: 102.4125467936198\n",
      "Epoch 39, Loss: 102.4026465657552\n",
      "Epoch 40, Loss: 102.31628816731771\n",
      "Epoch 41, Loss: 102.326215234375\n",
      "Epoch 42, Loss: 102.26979295247396\n",
      "Epoch 43, Loss: 102.17226123046875\n",
      "Epoch 44, Loss: 102.11993940429687\n",
      "Epoch 45, Loss: 102.07394661458333\n",
      "Epoch 46, Loss: 102.0492846842448\n",
      "Epoch 47, Loss: 102.05194568684895\n",
      "Epoch 48, Loss: 101.96657472330729\n",
      "Epoch 49, Loss: 101.90481980794272\n",
      "Epoch 50, Loss: 101.88988452148438\n"
     ]
    }
   ],
   "source": [
    "from VAE import VAE\n",
    "\n",
    "input_dim = 784\n",
    "latent_dim = 50\n",
    "vae = VAE(input_dim, latent_dim)\n",
    "\n",
    "optimizer = torch.optim.Adam(vae.parameters(), lr=1e-3)\n",
    "\n",
    "def loss_function(recon_x, x, mu, logvar):\n",
    "    recon_loss = F.binary_cross_entropy(recon_x, x.view(-1, 784), reduction='sum')\n",
    "    kl_loss = -0.5 * torch.sum(1 + logvar - mu.pow(2) - logvar.exp())\n",
    "    return recon_loss + kl_loss\n",
    "\n",
    "# 训练VAE\n",
    "num_epochs = 50\n",
    "for epoch in range(num_epochs):\n",
    "    vae.train()\n",
    "    total_loss = 0\n",
    "    for batch_idx, (data, _) in enumerate(train_loader):\n",
    "        #data = data.view(-1, 784)\n",
    "        optimizer.zero_grad()\n",
    "        recon_batch, mu, logvar = vae(data)\n",
    "        loss = loss_function(recon_batch, data, mu, logvar)\n",
    "        loss.backward()\n",
    "        total_loss += loss.item()\n",
    "        optimizer.step()\n",
    "\n",
    "    print(f'Epoch {epoch + 1}, Loss: {total_loss / len(train_loader.dataset)}')\n",
    "\n",
    "# 保存\n",
    "torch.save(vae.state_dict(), 'vae_model.pth')"
   ]
  },
  {
   "cell_type": "markdown",
   "id": "ee19e9be",
   "metadata": {},
   "source": [
    "# 加载模型"
   ]
  },
  {
   "cell_type": "code",
   "execution_count": 39,
   "id": "b0fe8944",
   "metadata": {},
   "outputs": [],
   "source": [
    "vae = VAE(input_dim, latent_dim)\n",
    "vae.load_state_dict(torch.load('vae_model.pth'))\n",
    "vae.eval()\n",
    "\n",
    "with torch.no_grad():\n",
    "    sample = torch.randn(64, latent_dim)\n",
    "    generated_images = vae.decode(sample)\n",
    "\n",
    "with torch.no_grad():\n",
    "    data, _ = next(iter(train_loader))\n",
    "    data = data.view(-1, 784)\n",
    "    recon_batch, _, _ = vae(data)"
   ]
  },
  {
   "cell_type": "markdown",
   "id": "993b553d",
   "metadata": {},
   "source": [
    "# 展示"
   ]
  },
  {
   "cell_type": "code",
   "execution_count": 42,
   "id": "a2a252ab",
   "metadata": {},
   "outputs": [
    {
     "data": {
      "image/png": "[encoded data removed]",
      "text/plain": [
       "<Figure size 640x480 with 2 Axes>"
      ]
     },
     "metadata": {},
     "output_type": "display_data"
    }
   ],
   "source": [
    "import matplotlib.pyplot as plt\n",
    "\n",
    "fig, axs = plt.subplots(1, 2)\n",
    "axs[0].imshow(torchvision.utils.make_grid(generated_images[30:38].view(8, 1, 28, 28)).permute(1, 2, 0), cmap='gray')\n",
    "axs[0].set_title('generate')\n",
    "\n",
    "axs[1].imshow(torchvision.utils.make_grid(recon_batch[8:16].view(8, 1, 28, 28)).permute(1, 2, 0), cmap='gray')\n",
    "axs[1].set_title('reconstructe')\n",
    "\n",
    "plt.show()\n"
   ]
  },
  {
   "cell_type": "code",
   "execution_count": null,
   "id": "31a688b7",
   "metadata": {},
   "outputs": [],
   "source": []
  }
 ],
 "metadata": {
  "kernelspec": {
   "display_name": "Python 3 (ipykernel)",
   "language": "python",
   "name": "python3"
  },
  "language_info": {
   "codemirror_mode": {
    "name": "ipython",
    "version": 3
   },
   "file_extension": ".py",
   "mimetype": "text/x-python",
   "name": "python",
   "nbconvert_exporter": "python",
   "pygments_lexer": "ipython3",
   "version": "3.11.4"
  }
 },
 "nbformat": 4,
 "nbformat_minor": 5
}
